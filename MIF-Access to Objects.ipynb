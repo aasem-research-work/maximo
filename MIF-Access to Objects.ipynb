{
 "cells": [
  {
   "cell_type": "markdown",
   "id": "25c89138-7ab0-45ea-a989-689014652d66",
   "metadata": {},
   "source": [
    "# MIF - Access to Objects "
   ]
  },
  {
   "cell_type": "code",
   "execution_count": 1,
   "id": "905ce292-a965-40e8-91e0-62126cab74cc",
   "metadata": {
    "tags": []
   },
   "outputs": [],
   "source": [
    "import requests\n",
    "import xmltodict\n",
    "import json"
   ]
  },
  {
   "cell_type": "markdown",
   "id": "af480a46-c4f0-419e-8356-e1289843b532",
   "metadata": {},
   "source": [
    "## Get data from mbo object "
   ]
  },
  {
   "cell_type": "code",
   "execution_count": 2,
   "id": "5805ea07-3e16-4fb8-b53e-9cf0952e5860",
   "metadata": {
    "tags": []
   },
   "outputs": [],
   "source": [
    "def get_data(req):\n",
    "    p_host_port=req['host_port']\n",
    "    p_mbo_os=req['mbo_os']\n",
    "    p_query=req['query']\n",
    "    p_user=req['user']\n",
    "    p_password=req['password']\n",
    "\n",
    "    url=f\"{p_host_port}/maxrest/rest/{p_mbo_os}/{p_query}_lid={p_user}&_lpwd={p_password}\"\n",
    "    headers = {\n",
    "        \"Content-Type\": \"application/xml\",\n",
    "        \"Accept\": \"application/octet-stream\"\n",
    "        }\n",
    "    response = requests.get(url, headers=headers)\n",
    "    data_dict = xmltodict.parse(response.content)\n",
    "    json_data = json.dumps(data_dict)\n",
    "    dict_object = json.loads(json_data)\n",
    "    return dict_object"
   ]
  },
  {
   "cell_type": "markdown",
   "id": "03b59606-6fd0-4da9-aead-178488152725",
   "metadata": {},
   "source": [
    "## Main (Testing)"
   ]
  },
  {
   "cell_type": "code",
   "execution_count": 3,
   "id": "382725bd-3ec5-4045-b2b7-a50e955819a7",
   "metadata": {
    "tags": []
   },
   "outputs": [
    {
     "data": {
      "text/plain": [
       "{'PERSON': {'@xmlns': 'http://www.ibm.com/maximo',\n",
       "  '@xmlns:xsi': 'http://www.w3.org/2001/XMLSchema-instance',\n",
       "  '@rowstamp': '504125',\n",
       "  'PERSONID': 'SCHAFER',\n",
       "  'STATUS': 'ACTIVE',\n",
       "  'DISPLAYNAME': 'Leonard Schafer',\n",
       "  'FIRSTNAME': 'Leonard',\n",
       "  'LASTNAME': 'Schafer',\n",
       "  'SUPERVISOR': 'MARCUS',\n",
       "  'BIRTHDATE': '1953-08-12T00:00:00+06:00',\n",
       "  'LASTEVALDATE': '2001-02-17T00:00:00+05:00',\n",
       "  'NEXTEVALDATE': '2002-02-10T00:00:00+05:00',\n",
       "  'HIREDATE': '1989-12-26T00:00:00+06:00',\n",
       "  'WFMAILELECTION': 'PROCESS',\n",
       "  'TRANSEMAILELECTION': 'NEVER',\n",
       "  'ADDRESSLINE1': '2 Bridge Street',\n",
       "  'CITY': 'Salem',\n",
       "  'STATEPROVINCE': 'NH',\n",
       "  'COUNTRY': 'US',\n",
       "  'POSTALCODE': '03079',\n",
       "  'STATUSDATE': '2003-09-25T15:44:38+05:00',\n",
       "  'ACCEPTINGWFMAIL': '1',\n",
       "  'LOCTOSERVREQ': '1',\n",
       "  'PERSONUID': '2',\n",
       "  'LANGCODE': 'EN',\n",
       "  'DISPLAYFROM': '2023-03-29T00:00:00+05:00',\n",
       "  'PRIMARYEMAIL': 'leonard.schafer@ecmmit.net',\n",
       "  'PRIMARYPHONE': '(603) 555-1234',\n",
       "  'PRIMARYCALORG': 'EAGLENA',\n",
       "  'PRIMARYCALNUM': 'DAY',\n",
       "  'PRIMARYSHIFTNUM': 'DAY',\n",
       "  'HASLD': '0',\n",
       "  'STATUSIFACE': '0',\n",
       "  'ISCONSULTANT': '0',\n",
       "  'DISPLAYTO': '2023-04-04T00:00:00+05:00'}}"
      ]
     },
     "execution_count": 3,
     "metadata": {},
     "output_type": "execute_result"
    }
   ],
   "source": [
    "reqs={\n",
    "    \"host_port\":\"http://max76vm:9080\",\n",
    "    \"mbo_os\":'mbo', # 'os'\n",
    "    \"query\":'person/1?',\n",
    "    \"user\":'wilson',\n",
    "    \"password\":'wilson'\n",
    "    }\n",
    "\n",
    "\n",
    "reqs[\"query\"]=\"person/2?\" # change the query\n",
    "payload=get_data(reqs) \n",
    "payload"
   ]
  },
  {
   "cell_type": "code",
   "execution_count": null,
   "id": "f3580e8c-ba6e-4456-9ef3-f5c13c2dc7bb",
   "metadata": {},
   "outputs": [],
   "source": []
  }
 ],
 "metadata": {
  "kernelspec": {
   "display_name": "Python 3 (ipykernel)",
   "language": "python",
   "name": "python3"
  },
  "language_info": {
   "codemirror_mode": {
    "name": "ipython",
    "version": 3
   },
   "file_extension": ".py",
   "mimetype": "text/x-python",
   "name": "python",
   "nbconvert_exporter": "python",
   "pygments_lexer": "ipython3",
   "version": "3.11.2"
  }
 },
 "nbformat": 4,
 "nbformat_minor": 5
}
